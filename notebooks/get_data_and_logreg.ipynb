{
 "cells": [
  {
   "cell_type": "code",
   "execution_count": 38,
   "metadata": {},
   "outputs": [],
   "source": [
    "import numpy as np\n",
    "np.random.seed(42)"
   ]
  },
  {
   "cell_type": "code",
   "execution_count": 39,
   "metadata": {},
   "outputs": [
    {
     "data": {
      "text/plain": [
       "<module 'fxns' from '/Users/fultonw/Documents/nonscratch/20180216_motifnet/motifnet/code/fxns.py'>"
      ]
     },
     "execution_count": 39,
     "metadata": {},
     "output_type": "execute_result"
    }
   ],
   "source": [
    "import tensorflow as tf\n",
    "import pdb\n",
    "import fxns\n",
    "reload(fxns)"
   ]
  },
  {
   "cell_type": "code",
   "execution_count": 51,
   "metadata": {},
   "outputs": [],
   "source": [
    "# constants\n",
    "data_path = '../data/shuffled_examples'\n",
    "out_path = '../output/shuffled_examples'\n",
    "train_out_path = '%s/texttrain' % out_path\n",
    "valid_out_path = '%s/textvalidate' % out_path\n",
    "test_out_path = '%s/texttest' % out_path\n",
    "test_chrs = [22]\n",
    "valid_chrs = [21]\n",
    "blocksize = 10\n",
    "num_blocks = 4\n",
    "create_data = True\n",
    "text = False\n",
    "binary = True\n",
    "batch_size = 5\n",
    "capacity = 2000\n",
    "min_after_dequeue = 1000\n",
    "learning_rate = 0.01"
   ]
  },
  {
   "cell_type": "code",
   "execution_count": 52,
   "metadata": {
    "scrolled": false
   },
   "outputs": [
    {
     "name": "stdout",
     "output_type": "stream",
     "text": [
      "> /Users/fultonw/Documents/nonscratch/20180216_motifnet/motifnet/code/fxns.py(44)create_shards()\n",
      "-> def file_input(files):\n",
      "(Pdb) c\n",
      "> /Users/fultonw/Documents/nonscratch/20180216_motifnet/motifnet/code/fxns.py(65)create_shards()\n",
      "-> train_readers = {chr:open(train_chr_to_files[chr]) for chr in train_chr_to_files.keys()}\n",
      "(Pdb) c\n",
      "1\n",
      "2\n",
      "3\n",
      "4\n",
      "5\n",
      "1\n",
      "2\n",
      "3\n",
      "4\n",
      "5\n",
      "1\n",
      "2\n",
      "3\n",
      "4\n",
      "5\n"
     ]
    }
   ],
   "source": [
    "# create data\n",
    "if create_data:\n",
    "    fxns.create_shards(data_path,\n",
    "            train_out_path, valid_out_path, test_out_path,\n",
    "            test_chrs, valid_chrs,\n",
    "            blocksize=blocksize,\n",
    "            text=text, binary=binary, num_blocks=num_blocks)"
   ]
  },
  {
   "cell_type": "code",
   "execution_count": 53,
   "metadata": {},
   "outputs": [],
   "source": [
    "# get training data\n",
    "tf.reset_default_graph()\n",
    "(seq, label), info = fxns.get_seq_and_label(train_out_path)\n",
    "seq_batch, label_batch = tf.train.shuffle_batch([seq, label], batch_size=batch_size,\n",
    "    capacity=capacity,\n",
    "    min_after_dequeue=min_after_dequeue)\n",
    "\n",
    "# get validation data\n",
    "(seqv, labelv), infov = fxns.get_seq_and_label(valid_out_path)\n",
    "seqv_batch, labelv_batch = tf.train.shuffle_batch([seqv, labelv], batch_size=batch_size,\n",
    "    capacity=capacity,\n",
    "    min_after_dequeue=min_after_dequeue)"
   ]
  },
  {
   "cell_type": "code",
   "execution_count": 62,
   "metadata": {
    "scrolled": false
   },
   "outputs": [
    {
     "name": "stdout",
     "output_type": "stream",
     "text": [
      "(5, 4000) (5, 24)\n",
      "[[1. 1. 1. ... 1. 1. 1.]\n",
      " [1. 1. 1. ... 1. 1. 1.]\n",
      " [1. 1. 1. ... 1. 1. 1.]\n",
      " [1. 1. 1. ... 1. 1. 1.]\n",
      " [1. 1. 1. ... 1. 1. 1.]]\n"
     ]
    }
   ],
   "source": [
    "# print data\n",
    "with tf.Session() as sess:\n",
    "    coord = tf.train.Coordinator()\n",
    "    threads = tf.train.start_queue_runners(coord=coord)\n",
    "    _seq_batch, _label_batch = sess.run([seq_batch, label_batch])\n",
    "#     print _seq_batch, _label_batch\n",
    "    print _seq_batch.shape, _label_batch.shape\n",
    "    print sess.run(tf.reshape(seq_batch, (-1, 4000/4,4))).sum(axis=0)\n",
    "    coord.request_stop()\n",
    "    coord.join(threads)"
   ]
  },
  {
   "cell_type": "code",
   "execution_count": 55,
   "metadata": {},
   "outputs": [],
   "source": [
    "# define model\n",
    "loss = fxns.get_logreg_model(seq_batch, label_batch, info['seq_len'], info['label_len'])\n",
    "optimizer = tf.train.GradientDescentOptimizer(learning_rate=learning_rate).minimize(loss)"
   ]
  },
  {
   "cell_type": "code",
   "execution_count": 56,
   "metadata": {
    "scrolled": false
   },
   "outputs": [
    {
     "name": "stdout",
     "output_type": "stream",
     "text": [
      "0 0.6903673 0.64162725\n",
      "100 0.1838389 0.20634474\n",
      "200 0.12751153 0.17259066\n",
      "300 0.108013585 0.16089983\n",
      "400 0.09999327 0.16075632\n",
      "500 0.07770193 0.16465083\n",
      "600 0.06950669 0.18527451\n",
      "700 0.05380475 0.16772635\n",
      "800 0.049308818 0.16274077\n",
      "900 0.04449594 0.18214272\n"
     ]
    }
   ],
   "source": [
    "# train\n",
    "\n",
    "with tf.Session() as sess:\n",
    "    coord = tf.train.Coordinator()\n",
    "    threads = tf.train.start_queue_runners(coord=coord)\n",
    "    \n",
    "    sess.run(tf.global_variables_initializer())\n",
    "    \n",
    "    for i in range(1000):\n",
    "        _, _loss, a, b = sess.run([optimizer, loss, seq_batch, label_batch])\n",
    "        \n",
    "        if i % 100 == 0:\n",
    "            av, bv = sess.run([seqv_batch,labelv_batch])\n",
    "            _lossv = sess.run(loss,\n",
    "                feed_dict={\n",
    "                    seq_batch:av,\n",
    "                    label_batch:bv\n",
    "                })\n",
    "            print i, _loss, _lossv\n",
    "    \n",
    "    coord.request_stop()\n",
    "    coord.join(threads)"
   ]
  },
  {
   "cell_type": "code",
   "execution_count": null,
   "metadata": {},
   "outputs": [],
   "source": []
  }
 ],
 "metadata": {
  "kernelspec": {
   "display_name": "Python 2",
   "language": "python",
   "name": "python2"
  },
  "language_info": {
   "codemirror_mode": {
    "name": "ipython",
    "version": 2
   },
   "file_extension": ".py",
   "mimetype": "text/x-python",
   "name": "python",
   "nbconvert_exporter": "python",
   "pygments_lexer": "ipython2",
   "version": "2.7.14"
  }
 },
 "nbformat": 4,
 "nbformat_minor": 1
}
