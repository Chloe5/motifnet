{
 "cells": [
  {
   "cell_type": "code",
   "execution_count": 103,
   "metadata": {
    "collapsed": true
   },
   "outputs": [],
   "source": [
    "%matplotlib inline\n",
    "from __future__ import print_function, division\n",
    "import numpy as np\n",
    "import pandas as pd\n",
    "import matplotlib.pyplot as plt\n",
    "import matplotlib.gridspec as gridspec\n",
    "import seaborn as sns"
   ]
  },
  {
   "cell_type": "code",
   "execution_count": 115,
   "metadata": {},
   "outputs": [],
   "source": [
    "#set what to plot\n",
    "metric='auprcs'\n",
    "metricname='AUPRC'\n",
    "\n",
    "modelnames = {\n",
    "    'freeconv':r'$M_u$',\n",
    "    'motifconv':r'$M_c$',\n",
    "    'dumbmotifconv':r'$M_d$',\n",
    "    'logreg':r'$M_\\ell$',\n",
    "    'peaks_freeconv':r'$M_u$ (top peaks)',\n",
    "    'peaks_motifconv':r'$M_c$ (top peaks)',\n",
    "    'peaks_logreg':r'$M_\\ell$ (top peaks)'\n",
    "\n",
    "}\n",
    "\n",
    "annotate=False\n",
    "\n",
    "models = ['freeconv', 'motifconv', 'dumbmotifconv', 'logreg']\n",
    "figname='comparison.allpeaks'\n",
    "set_lim=0.2\n",
    "\n",
    "# models = ['peaks_freeconv', 'peaks_motifconv', 'peaks_logreg']\n",
    "# figname='comparison.toppeaks'\n",
    "# set_lim=0.2"
   ]
  },
  {
   "cell_type": "code",
   "execution_count": 116,
   "metadata": {},
   "outputs": [
    {
     "data": {
      "text/plain": [
       "<matplotlib.figure.Figure at 0x1a1fa07c90>"
      ]
     },
     "metadata": {},
     "output_type": "display_data"
    }
   ],
   "source": [
    "#figure aesthetics\n",
    "plt.close()\n",
    "fig = plt.figure(figsize=(6,6))\n",
    "gs = gridspec.GridSpec(len(models)-1,len(models)-1)\n",
    "\n",
    "line_props = {\n",
    "        'color':'gray',\n",
    "        'linestyle':'--',\n",
    "        'linewidth':0.5,\n",
    "        'alpha':0.8\n",
    "        }\n",
    "labelfontsize=8\n",
    "tickprops = {\n",
    "        'direction':'out',\n",
    "        'length':2,\n",
    "        'width':0.8,\n",
    "        'pad':4,\n",
    "        'labelsize':7}"
   ]
  },
  {
   "cell_type": "code",
   "execution_count": 117,
   "metadata": {},
   "outputs": [
    {
     "name": "stdout",
     "output_type": "stream",
     "text": [
      "freeconv motifconv\n",
      "==\n",
      "freeconv dumbmotifconv\n",
      "==\n",
      "freeconv logreg\n",
      "==\n",
      "motifconv dumbmotifconv\n",
      "==\n",
      "motifconv logreg\n",
      "==\n",
      "dumbmotifconv logreg\n",
      "==\n"
     ]
    }
   ],
   "source": [
    "#plotting code\n",
    "for i, m1 in enumerate(models):\n",
    "    for j, m2 in enumerate(models):\n",
    "        if j<=i:\n",
    "            continue\n",
    "        ax = plt.subplot(gs[i,j-1])\n",
    "        print(m1, m2)\n",
    "        m1df = pd.read_csv('stats.'+ m1 + '.tsv', sep='\\t').rename(columns={metric:'metric'})\n",
    "        m2df = pd.read_csv('stats.'+ m2 + '.tsv', sep='\\t').rename(columns={metric:'metric'})\n",
    "        both = pd.merge(m2df[['id','metric']], m1df[['id','metric']], on='id')\n",
    "        ax.scatter(both.metric_x, both.metric_y, s=2)\n",
    "        ax.plot([0,1], [0,1], **line_props)\n",
    "        if set_lim is None:\n",
    "            lim = max(both.metric_x.max(), both.metric_y.max())*1.1\n",
    "        else:\n",
    "            lim = set_lim\n",
    "        ax.set_xlim(0,lim)\n",
    "        ax.set_ylim(0,lim)\n",
    "        ax.set_ylabel(modelnames[m1] + ' ' + metricname, fontsize=labelfontsize)\n",
    "        ax.set_xlabel(modelnames[m2] + ' ' + metricname, fontsize=labelfontsize)\n",
    "        ax.set_xticks([0,lim])\n",
    "        ax.set_yticks([0,lim])\n",
    "        ax.set_xticklabels(['0', '{:.1f}'.format(lim)])\n",
    "        ax.set_yticklabels(['0', '{:.1f}'.format(lim)])\n",
    "        ax.tick_params(**tickprops)\n",
    "        \n",
    "        if annotate:\n",
    "            for k, txt in enumerate(both['id']):\n",
    "                ax.annotate(txt, (both.metric_x[k], both.metric_y[k]), fontsize=labelfontsize-2)\n",
    "        print('==')\n",
    "\n",
    "sns.despine()\n",
    "plt.tight_layout()\n",
    "# plt.show()\n",
    "plt.savefig('../figures/'+figname+'.pdf'); plt.close()"
   ]
  },
  {
   "cell_type": "code",
   "execution_count": null,
   "metadata": {
    "collapsed": true
   },
   "outputs": [],
   "source": []
  }
 ],
 "metadata": {
  "kernelspec": {
   "display_name": "Python 2",
   "language": "python",
   "name": "python2"
  },
  "language_info": {
   "codemirror_mode": {
    "name": "ipython",
    "version": 2
   },
   "file_extension": ".py",
   "mimetype": "text/x-python",
   "name": "python",
   "nbconvert_exporter": "python",
   "pygments_lexer": "ipython2",
   "version": "2.7.14"
  }
 },
 "nbformat": 4,
 "nbformat_minor": 2
}
